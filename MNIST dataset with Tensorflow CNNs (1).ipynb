{
 "cells": [
  {
   "cell_type": "markdown",
   "id": "3e6beb5c",
   "metadata": {},
   "source": [
    "We will be working on the built in MNIST Tensorflow dataset, this dataset contains 70000 images of handwritten from 0 to 9, each image is in 28x28 dimension in grayscale only.It has been split into 60000 train set and 10000 test set, for that we will need to create a validation dataset to set early stopping mechanism and pervent overfitting.\n",
    "\n",
    "#### The plan \n",
    "- first we will be using a convolutional layer with kernel size 5x5 and 50 kernels(we won't use a dense layer as that would unpack the 2D image to 1D vector which is far from our desired result) with the ReLu as activation function as it behaves well in most situations.\n",
    "- Our second layer would be a maxpool layer and have a 2x2 kernels with stride 2\n",
    "then we will redo the two layers with a kernel of 3x3 for the convolution and a 50 kernels.\n",
    "then we will flatten the vector (5x5x50) into a 1250 vector and put it into a dense layer that corresponds to 10 digits we want to classify with softmax activation function."
   ]
  },
  {
   "cell_type": "markdown",
   "id": "13b9d9d2",
   "metadata": {},
   "source": [
    "### Importing relevant libraries "
   ]
  },
  {
   "cell_type": "code",
   "execution_count": 1,
   "id": "842333de",
   "metadata": {},
   "outputs": [
    {
     "name": "stderr",
     "output_type": "stream",
     "text": [
      "C:\\Users\\zinel\\anaconda3\\envs\\py3-TF2.0\\lib\\site-packages\\tqdm\\auto.py:22: TqdmWarning: IProgress not found. Please update jupyter and ipywidgets. See https://ipywidgets.readthedocs.io/en/stable/user_install.html\n",
      "  from .autonotebook import tqdm as notebook_tqdm\n"
     ]
    }
   ],
   "source": [
    "import os\n",
    "os.environ['TF_CPP_MIN_LOG_LEVEL'] = '2'\n",
    "import tensorflow as tf\n",
    "import tensorflow_datasets as tfds\n",
    "import datetime"
   ]
  },
  {
   "cell_type": "code",
   "execution_count": 2,
   "id": "07b34449",
   "metadata": {},
   "outputs": [],
   "source": [
    "buffer_size=70_000#the maximum batch for shuffling the dataset\n",
    "batch_size=128\n",
    "epochs=20"
   ]
  },
  {
   "cell_type": "code",
   "execution_count": 3,
   "id": "8cba5afa",
   "metadata": {},
   "outputs": [],
   "source": [
    "data,info=tfds.load(name='mnist',with_info=True,as_supervised=True)"
   ]
  },
  {
   "cell_type": "code",
   "execution_count": 4,
   "id": "8355ed60",
   "metadata": {},
   "outputs": [],
   "source": [
    "train,test=data['train'],data['test']"
   ]
  },
  {
   "cell_type": "markdown",
   "id": "eddb869c",
   "metadata": {},
   "source": [
    "### Scaling the data [0,1]"
   ]
  },
  {
   "cell_type": "code",
   "execution_count": 5,
   "id": "5b47217d",
   "metadata": {},
   "outputs": [],
   "source": [
    "def scale(image,label):\n",
    "    image=tf.cast(image,tf.float32)\n",
    "    image/=255.\n",
    "    return image,label\n",
    "\n",
    "    "
   ]
  },
  {
   "cell_type": "code",
   "execution_count": 6,
   "id": "e15ad1ec",
   "metadata": {},
   "outputs": [],
   "source": [
    "train_and_validation_data=train.map(scale)\n",
    "test_data=test.map(scale)"
   ]
  },
  {
   "cell_type": "markdown",
   "id": "477c1e03",
   "metadata": {},
   "source": [
    "### Creating validation set"
   ]
  },
  {
   "cell_type": "code",
   "execution_count": 7,
   "id": "da7e8b70",
   "metadata": {},
   "outputs": [],
   "source": [
    "num_validation_samples = 0.1*info.splits['train'].num_examples\n",
    "num_validation_samples=tf.cast(num_validation_samples,tf.int64)"
   ]
  },
  {
   "cell_type": "code",
   "execution_count": 8,
   "id": "48bf60b3",
   "metadata": {},
   "outputs": [],
   "source": [
    "num_test_samples=info.splits['test'].num_examples\n",
    "num_test_samples=tf.cast(num_test_samples,tf.int64)"
   ]
  },
  {
   "cell_type": "code",
   "execution_count": 9,
   "id": "9c514090",
   "metadata": {},
   "outputs": [],
   "source": [
    "#quick shuffle before split\n",
    "train_and_validation_data=train_and_validation_data.shuffle(buffer_size)"
   ]
  },
  {
   "cell_type": "code",
   "execution_count": 10,
   "id": "9d2cd79e",
   "metadata": {},
   "outputs": [],
   "source": [
    "train_data=train_and_validation_data.skip(num_validation_samples)"
   ]
  },
  {
   "cell_type": "code",
   "execution_count": 11,
   "id": "772ae4c4",
   "metadata": {},
   "outputs": [],
   "source": [
    "validation_data=train_and_validation_data.take(num_validation_samples)"
   ]
  },
  {
   "cell_type": "code",
   "execution_count": 12,
   "id": "f1e4843f",
   "metadata": {},
   "outputs": [],
   "source": [
    "#batching the data, preferable a power of 2\n",
    "train_data=train_data.batch(batch_size)\n",
    "# the validation and test sets don't need to be batched as we don't backpropagate on them\n",
    "#but the model expects them to be batched as well to get the proper dimension with their number of samples\n",
    "validation_data=validation_data.batch(num_validation_samples)\n",
    "test_data=test_data.batch(num_test_samples)"
   ]
  },
  {
   "cell_type": "markdown",
   "id": "380674e6",
   "metadata": {},
   "source": [
    "### Outlining the model "
   ]
  },
  {
   "cell_type": "code",
   "execution_count": 13,
   "id": "11220885",
   "metadata": {},
   "outputs": [],
   "source": [
    "model = tf.keras.Sequential([\n",
    "    tf.keras.layers.Conv2D(50,5,activation='relu',input_shape=(28,28,1)),\n",
    "    tf.keras.layers.MaxPooling2D(pool_size=(2,2)),\n",
    "    tf.keras.layers.Conv2D(50,3,activation='relu'),\n",
    "    tf.keras.layers.MaxPooling2D(pool_size=(2,2)),\n",
    "    tf.keras.layers.Flatten(),\n",
    "    tf.keras.layers.Dense(10)\n",
    "    \n",
    "])"
   ]
  },
  {
   "cell_type": "code",
   "execution_count": 14,
   "id": "96934707",
   "metadata": {},
   "outputs": [
    {
     "name": "stdout",
     "output_type": "stream",
     "text": [
      "Model: \"sequential\"\n",
      "___________________________________________________________________________\n",
      " Layer (type)                    Output Shape                  Param #     \n",
      "===========================================================================\n",
      " conv2d (Conv2D)                 (None, 24, 24, 50)            1300        \n",
      "                                                                           \n",
      " max_pooling2d (MaxPooling2D)    (None, 12, 12, 50)            0           \n",
      "                                                                           \n",
      " conv2d_1 (Conv2D)               (None, 10, 10, 50)            22550       \n",
      "                                                                           \n",
      " max_pooling2d_1 (MaxPooling2D)  (None, 5, 5, 50)              0           \n",
      "                                                                           \n",
      " flatten (Flatten)               (None, 1250)                  0           \n",
      "                                                                           \n",
      " dense (Dense)                   (None, 10)                    12510       \n",
      "                                                                           \n",
      "===========================================================================\n",
      "Total params: 36,360\n",
      "Trainable params: 36,360\n",
      "Non-trainable params: 0\n",
      "___________________________________________________________________________\n"
     ]
    }
   ],
   "source": [
    "model.summary(line_length=75) #to check if the model works properly"
   ]
  },
  {
   "cell_type": "code",
   "execution_count": 15,
   "id": "51568b2f",
   "metadata": {},
   "outputs": [],
   "source": [
    "# for classification problems we need the sparseCategoricalCrossEntropy loss function\n",
    "loss_fn=tf.keras.losses.SparseCategoricalCrossentropy(from_logits=True)\n",
    "# this would be the loss function if we had a softmax activation\n",
    "# we avoid inserting the softmax in the model for numerical stability"
   ]
  },
  {
   "cell_type": "code",
   "execution_count": 2,
   "id": "45f8efba",
   "metadata": {},
   "outputs": [
    {
     "ename": "NameError",
     "evalue": "name 'model' is not defined",
     "output_type": "error",
     "traceback": [
      "\u001b[1;31m---------------------------------------------------------------------------\u001b[0m",
      "\u001b[1;31mNameError\u001b[0m                                 Traceback (most recent call last)",
      "\u001b[1;32m~\\AppData\\Local\\Temp\\ipykernel_2816\\2881040454.py\u001b[0m in \u001b[0;36m<module>\u001b[1;34m\u001b[0m\n\u001b[1;32m----> 1\u001b[1;33m \u001b[0mmodel\u001b[0m\u001b[1;33m.\u001b[0m\u001b[0mcompile\u001b[0m\u001b[1;33m(\u001b[0m\u001b[0moptimizer\u001b[0m\u001b[1;33m=\u001b[0m\u001b[1;34m'adam'\u001b[0m\u001b[1;33m,\u001b[0m\u001b[0mloss\u001b[0m\u001b[1;33m=\u001b[0m\u001b[0mloss_fn\u001b[0m\u001b[1;33m,\u001b[0m\u001b[0mmetrics\u001b[0m\u001b[1;33m=\u001b[0m\u001b[1;33m[\u001b[0m\u001b[1;34m'accuracy'\u001b[0m\u001b[1;33m]\u001b[0m\u001b[1;33m)\u001b[0m\u001b[1;33m\u001b[0m\u001b[1;33m\u001b[0m\u001b[0m\n\u001b[0m",
      "\u001b[1;31mNameError\u001b[0m: name 'model' is not defined"
     ]
    }
   ],
   "source": [
    "model.compile(optimizer='adam',loss=loss_fn,metrics=['accuracy'])"
   ]
  },
  {
   "cell_type": "markdown",
   "id": "6e799e97",
   "metadata": {},
   "source": [
    "Now we should setup an early stopping mechanism to avoid overfitting, in tensorflow this is done using callbacks, callbacks are executed at the end of aech epoch:"
   ]
  },
  {
   "cell_type": "code",
   "execution_count": 17,
   "id": "b3778735",
   "metadata": {},
   "outputs": [],
   "source": [
    "early_stopping=tf.keras.callbacks.EarlyStopping(\n",
    "    monitor='val_loss',#indicates which property to monitor during training\n",
    "    mode='auto',\n",
    "    min_delta=0,\n",
    "    patience=2,\n",
    "    verbose=0,\n",
    "    restore_best_weights=True\n",
    ")"
   ]
  },
  {
   "cell_type": "code",
   "execution_count": 18,
   "id": "663d272e",
   "metadata": {},
   "outputs": [],
   "source": [
    "log_dir = \"logs\\\\fit\\\\\" + datetime.datetime.now().strftime(\"%Y%m%d-%H%M%S\")\n",
    "tensorboard_callback = tf.keras.callbacks.TensorBoard(log_dir=log_dir, histogram_freq=1)"
   ]
  },
  {
   "cell_type": "code",
   "execution_count": 19,
   "id": "8e7ba144",
   "metadata": {
    "scrolled": true
   },
   "outputs": [
    {
     "name": "stdout",
     "output_type": "stream",
     "text": [
      "Epoch 1/20\n",
      "422/422 - 68s - loss: 0.2653 - accuracy: 0.9258 - val_loss: 0.0897 - val_accuracy: 0.9748 - 68s/epoch - 160ms/step\n",
      "Epoch 2/20\n",
      "422/422 - 55s - loss: 0.0739 - accuracy: 0.9777 - val_loss: 0.0505 - val_accuracy: 0.9835 - 55s/epoch - 130ms/step\n",
      "Epoch 3/20\n",
      "422/422 - 68s - loss: 0.0534 - accuracy: 0.9842 - val_loss: 0.0463 - val_accuracy: 0.9853 - 68s/epoch - 162ms/step\n",
      "Epoch 4/20\n",
      "422/422 - 63s - loss: 0.0448 - accuracy: 0.9866 - val_loss: 0.0351 - val_accuracy: 0.9895 - 63s/epoch - 150ms/step\n",
      "Epoch 5/20\n",
      "422/422 - 50s - loss: 0.0383 - accuracy: 0.9883 - val_loss: 0.0331 - val_accuracy: 0.9892 - 50s/epoch - 119ms/step\n",
      "Epoch 6/20\n",
      "422/422 - 48s - loss: 0.0322 - accuracy: 0.9900 - val_loss: 0.0256 - val_accuracy: 0.9918 - 48s/epoch - 113ms/step\n",
      "Epoch 7/20\n",
      "422/422 - 48s - loss: 0.0273 - accuracy: 0.9915 - val_loss: 0.0218 - val_accuracy: 0.9927 - 48s/epoch - 113ms/step\n",
      "Epoch 8/20\n",
      "422/422 - 47s - loss: 0.0254 - accuracy: 0.9920 - val_loss: 0.0188 - val_accuracy: 0.9935 - 47s/epoch - 112ms/step\n",
      "Epoch 9/20\n",
      "422/422 - 47s - loss: 0.0220 - accuracy: 0.9932 - val_loss: 0.0135 - val_accuracy: 0.9963 - 47s/epoch - 112ms/step\n",
      "Epoch 10/20\n",
      "422/422 - 48s - loss: 0.0192 - accuracy: 0.9942 - val_loss: 0.0173 - val_accuracy: 0.9935 - 48s/epoch - 115ms/step\n",
      "Epoch 11/20\n",
      "422/422 - 51s - loss: 0.0166 - accuracy: 0.9947 - val_loss: 0.0134 - val_accuracy: 0.9960 - 51s/epoch - 121ms/step\n",
      "Epoch 12/20\n",
      "422/422 - 48s - loss: 0.0156 - accuracy: 0.9952 - val_loss: 0.0126 - val_accuracy: 0.9962 - 48s/epoch - 114ms/step\n",
      "Epoch 13/20\n",
      "422/422 - 44s - loss: 0.0137 - accuracy: 0.9958 - val_loss: 0.0140 - val_accuracy: 0.9952 - 44s/epoch - 103ms/step\n",
      "Epoch 14/20\n",
      "422/422 - 43s - loss: 0.0121 - accuracy: 0.9962 - val_loss: 0.0072 - val_accuracy: 0.9977 - 43s/epoch - 102ms/step\n",
      "Epoch 15/20\n",
      "422/422 - 43s - loss: 0.0100 - accuracy: 0.9968 - val_loss: 0.0075 - val_accuracy: 0.9973 - 43s/epoch - 102ms/step\n",
      "Epoch 16/20\n",
      "422/422 - 44s - loss: 0.0097 - accuracy: 0.9970 - val_loss: 0.0113 - val_accuracy: 0.9962 - 44s/epoch - 105ms/step\n"
     ]
    },
    {
     "data": {
      "text/plain": [
       "<keras.callbacks.History at 0x19742714f48>"
      ]
     },
     "execution_count": 19,
     "metadata": {},
     "output_type": "execute_result"
    }
   ],
   "source": [
    "model.fit(\n",
    "    train_data,\n",
    "    epochs=epochs,\n",
    "    callbacks=[tensorboard_callback,early_stopping],#always keep the early stopping the last element of the list, otherwise it bugs out\n",
    "    validation_data=validation_data,\n",
    "    verbose=2\n",
    ")"
   ]
  },
  {
   "cell_type": "markdown",
   "id": "eef49715",
   "metadata": {},
   "source": [
    "### Test Data"
   ]
  },
  {
   "cell_type": "code",
   "execution_count": 20,
   "id": "26bb4145",
   "metadata": {},
   "outputs": [
    {
     "name": "stdout",
     "output_type": "stream",
     "text": [
      "1/1 [==============================] - 5s 5s/step - loss: 0.0281 - accuracy: 0.9914\n"
     ]
    }
   ],
   "source": [
    "test_loss,test_accuracy=model.evaluate(test_data)"
   ]
  },
  {
   "cell_type": "markdown",
   "id": "f8679399",
   "metadata": {},
   "source": [
    "Pretty good accuracy, good job soldier."
   ]
  },
  {
   "cell_type": "markdown",
   "id": "6545bb19",
   "metadata": {},
   "source": [
    "### Plotting images and the results"
   ]
  },
  {
   "cell_type": "code",
   "execution_count": 21,
   "id": "b47e2643",
   "metadata": {},
   "outputs": [],
   "source": [
    "import matplotlib.pyplot as plt\n",
    "import numpy as np"
   ]
  },
  {
   "cell_type": "code",
   "execution_count": 22,
   "id": "64cba473",
   "metadata": {},
   "outputs": [],
   "source": [
    "#split yhe test_data into 2 arrays, containing the images and the corresponding labels\n",
    "for images,labels in test_data.take(1):\n",
    "    images_test=images.numpy()\n",
    "    labels_test=labels.numpy()\n",
    "    \n",
    "#rehape the images into 28x28\n",
    "images_plot=np.reshape(images_test,(10000,28,28))"
   ]
  },
  {
   "cell_type": "code",
   "execution_count": 23,
   "id": "572699bc",
   "metadata": {},
   "outputs": [
    {
     "name": "stdout",
     "output_type": "stream",
     "text": [
      "Label: 6\n"
     ]
    },
    {
     "data": {
      "image/png": "[encoded data removed]",
      "text/plain": [
       "<Figure size 200x200 with 1 Axes>"
      ]
     },
     "metadata": {},
     "output_type": "display_data"
    }
   ],
   "source": [
    "# The image to be displayed and tested \n",
    "i=27\n",
    "\n",
    "#plot the image\n",
    "\n",
    "plt.figure(figsize=(2,2))\n",
    "plt.axis('off')\n",
    "plt.imshow(images_plot[i-1],cmap=\"gray\",aspect='auto')\n",
    "\n",
    "#print the correct label for the image\n",
    "print(\"Label: {}\".format(labels_test[i-1]))"
   ]
  },
  {
   "cell_type": "code",
   "execution_count": 24,
   "id": "e1f5c476",
   "metadata": {},
   "outputs": [
    {
     "name": "stdout",
     "output_type": "stream",
     "text": [
      "1/1 [==============================] - 1s 526ms/step\n"
     ]
    },
    {
     "data": {
      "text/plain": [
       "<BarContainer object of 10 artists>"
      ]
     },
     "execution_count": 24,
     "metadata": {},
     "output_type": "execute_result"
    },
    {
     "data": {
      "image/png": "[encoded data removed]",
      "text/plain": [
       "<Figure size 1200x500 with 1 Axes>"
      ]
     },
     "metadata": {},
     "output_type": "display_data"
    }
   ],
   "source": [
    "#obtain the model's predictions(logits)\n",
    "predictions=model.predict(images_test[i-1:i])\n",
    "\n",
    "#convert those predictions into probabilities(recall that we incorporated the softmax activation)\n",
    "probabilities=tf.nn.softmax(predictions).numpy()\n",
    "\n",
    "#convert the probabilities into percentages\n",
    "probabilities=probabilities*100\n",
    "\n",
    "#create a bar chart to plot the probabilities for each class\n",
    "plt.figure(figsize=(12,5))\n",
    "plt.bar(x=[1,2,3,4,5,6,7,8,9,10], height=probabilities[0],tick_label=[\"0\",\"1\",\"2\",\"3\",\"4\",\"5\",\"6\",\"7\",\"8\",\"9\"])"
   ]
  },
  {
   "cell_type": "markdown",
   "id": "b1cc1195",
   "metadata": {},
   "source": [
    "### Vusualising in Tensorboard"
   ]
  },
  {
   "cell_type": "code",
   "execution_count": 1,
   "id": "80763c5c",
   "metadata": {},
   "outputs": [
    {
     "data": {
      "text/plain": [
       "ERROR: Could not find `tensorboard`. Please ensure that your PATH\n",
       "contains an executable `tensorboard` program, or explicitly specify\n",
       "the path to a TensorBoard binary by setting the `TENSORBOARD_BINARY`\n",
       "environment variable."
      ]
     },
     "metadata": {},
     "output_type": "display_data"
    }
   ],
   "source": [
    "%reload_ext tensorboard\n",
    "%tensorboard --logdir logs/fit"
   ]
  },
  {
   "cell_type": "markdown",
   "id": "b5c212c4",
   "metadata": {},
   "source": [
    "### Computing the confusion matrix"
   ]
  },
  {
   "cell_type": "code",
   "execution_count": 3,
   "id": "798425e4",
   "metadata": {},
   "outputs": [],
   "source": [
    "import io\n",
    "import itertools"
   ]
  },
  {
   "cell_type": "code",
   "execution_count": 4,
   "id": "7ce6a227",
   "metadata": {},
   "outputs": [],
   "source": [
    "def plot_confusion_matrix(cm, class_names):\n",
    "    \"\"\"\n",
    "    Returns a matplotlib figure containing the plotted confusion matrix.\n",
    "\n",
    "    Args:\n",
    "    cm (array, shape = [n, n]): a confusion matrix of integer classes\n",
    "    class_names (array, shape = [n]): String names of the integer classes\n",
    "    \"\"\"\n",
    "    figure = plt.figure(figsize=(12, 12))\n",
    "    plt.imshow(cm, interpolation='nearest', cmap=plt.cm.Blues)\n",
    "    plt.title(\"Confusion matrix\")\n",
    "    plt.colorbar()\n",
    "    tick_marks = np.arange(len(class_names))\n",
    "    plt.xticks(tick_marks, class_names, rotation=45)\n",
    "    plt.yticks(tick_marks, class_names)\n",
    "\n",
    "    # Normalize the confusion matrix.\n",
    "    cm = np.around(cm.astype('float') / cm.sum(axis=1)[:, np.newaxis], decimals=2)\n",
    "\n",
    "    # Use white text if squares are dark; otherwise black.\n",
    "    threshold = cm.max() / 2.\n",
    "    for i, j in itertools.product(range(cm.shape[0]), range(cm.shape[1])):\n",
    "        color = \"white\" if cm[i, j] > threshold else \"black\"\n",
    "        plt.text(j, i, cm[i, j], horizontalalignment=\"center\", color=color)\n",
    "\n",
    "    plt.tight_layout()\n",
    "    plt.ylabel('True label')\n",
    "    plt.xlabel('Predicted label')\n",
    "    \n",
    "    return figure"
   ]
  },
  {
   "cell_type": "code",
   "execution_count": null,
   "id": "e1a110b6",
   "metadata": {},
   "outputs": [],
   "source": []
  }
 ],
 "metadata": {
  "kernelspec": {
   "display_name": "Python 3 (ipykernel)",
   "language": "python",
   "name": "python3"
  },
  "language_info": {
   "codemirror_mode": {
    "name": "ipython",
    "version": 3
   },
   "file_extension": ".py",
   "mimetype": "text/x-python",
   "name": "python",
   "nbconvert_exporter": "python",
   "pygments_lexer": "ipython3",
   "version": "3.9.13"
  }
 },
 "nbformat": 4,
 "nbformat_minor": 5
}
